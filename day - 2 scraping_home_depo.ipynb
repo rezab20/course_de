{
 "cells": [
  {
   "cell_type": "code",
   "execution_count": null,
   "metadata": {},
   "outputs": [],
   "source": [
    "import requests\n",
    "from bs4 import BeautifulSoup as bs"
   ]
  },
  {
   "attachments": {},
   "cell_type": "markdown",
   "metadata": {},
   "source": [
    "# Initial Setup"
   ]
  },
  {
   "attachments": {},
   "cell_type": "markdown",
   "metadata": {},
   "source": [
    "Langkah awal adalah mencoba untuk melakukan scraping pada halaman landing page, caranya dengan melihat elements yang menampung data pada dev tools browser"
   ]
  },
  {
   "cell_type": "code",
   "execution_count": null,
   "metadata": {},
   "outputs": [],
   "source": [
    "page = requests.get('https://home-depo.demo.pacmann.ai/').text # URL adalah lokasi dari website yang akan di scraping\n",
    "soup = bs(page)\n",
    "rows = soup.find_all('div', class_=\"card\")\n",
    "# print(rows)\n",
    "for row in rows:\n",
    "    print(row)\n"
   ]
  },
  {
   "attachments": {},
   "cell_type": "markdown",
   "metadata": {},
   "source": [
    "Selanjutnya kita akan menggambil url images dan title dari data, dengan menginspeksi elements pada browser"
   ]
  },
  {
   "cell_type": "code",
   "execution_count": 8,
   "metadata": {},
   "outputs": [
    {
     "name": "stdout",
     "output_type": "stream",
     "text": [
      "{'product_index': '0', 'image_url': 'https://images.thdstatic.com/productImages/a7cd0597-7d1d-4305-a4ec-b50abad8b146/svn/carhartt-hoodies-sweatshirts-100614-026-64_100.jpg', 'detail_url': '/show/0', 'title': \"Men's 3X Large Carbon Heather Cotton/Polyester Rain Defender Paxton Heavyweight Hooded Zip-Front Sweatshirt\"}\n",
      "{'product_index': '1', 'image_url': 'https://images.thdstatic.com/productImages/87a93598-8b3d-461e-bced-d6877bd461b6/svn/telephone-cords-wl6068-64_100.jpg', 'detail_url': '/show/1', 'title': 'Turmode 30 ft. RP TNC Female to RP TNC Male Adapter Cable'}\n",
      "{'product_index': '2', 'image_url': 'https://images.thdstatic.com/productImages/e6b758e6-8597-4fbd-92d7-525b178ea44e/svn/carolina-pet-company-dog-beds-pillows-011260-64_100.jpg', 'detail_url': '/show/2', 'title': 'Large Tapestry Bolster Bed'}\n",
      "{'product_index': '3', 'image_url': 'https://images.thdstatic.com/productImages/a6eea537-2ed9-4097-9777-f01c5a264341/svn/white-enamel-glaze-vessel-sinks-16gs-22478-64_100.jpg', 'detail_url': '/show/3', 'title': '16-Gauge-Sinks Vessel Sink in White with Faucet'}\n",
      "{'product_index': '4', 'image_url': 'https://images.thdstatic.com/productImages/e7fd5814-7fcd-4a48-9b57-4bc261f7ac80/svn/blacks-adtec-steel-toe-boots-1439-64_100.jpg', 'detail_url': '/show/4', 'title': \"Men's Crazy Horse 9'' Logger Boot - Steel Toe - Black Size 10.5(W)\"}\n",
      "{'product_index': '5', 'image_url': 'https://images.thdstatic.com/productImages/3e3ab42d-b660-4c92-a59f-f524871a9934/svn/multi-color-homeroots-room-dividers-274613-64_100.jpg', 'detail_url': '/show/5', 'title': 'Mariana 6 ft. Multi-Color 3-Panel Screen Divider'}\n",
      "{'product_index': '6', 'image_url': 'https://images.thdstatic.com/productImages/c7cec377-6fb9-4bf9-8e68-8ebec13bed53/svn/powdery-mist-behr-pro-paint-colors-pr37005-64_100.jpg', 'detail_url': '/show/6', 'title': '5 gal. #650C-2 Powdery Mist Semi-Gloss Interior Paint'}\n",
      "{'product_index': '7', 'image_url': 'https://images.thdstatic.com/productImages/ce5f6bda-3631-4a32-9119-0e190197f46e/svn/dewalt-grinding-wheels-cut-off-wheels-dw8062b5w50-64_100.jpg', 'detail_url': '/show/7', 'title': '7/8 in. x 4-1/2 in. x 0.045 in. Metal and Stainless Cutting Wheel (50-Pack)'}\n",
      "{'product_index': '8', 'image_url': 'https://images.thdstatic.com/productImages/bee02a05-0ad8-4861-b117-bd86ebe4718f/svn/gold-antique-mirror-titan-lighting-bar-carts-tn-892747-64_100.jpg', 'detail_url': '/show/8', 'title': 'Ring Gold Bar Cart'}\n",
      "{'product_index': '9', 'image_url': 'https://images.thdstatic.com/productImages/ee2bdf97-a574-4fe6-8a50-a0e9a4be44cf/svn/silver-benjara-makeup-vanities-bm132007-64_100.jpg', 'detail_url': '/show/9', 'title': 'Traditional Silver Wooden Vanity Table'}\n",
      "{'product_index': '10', 'image_url': 'https://images.thdstatic.com/productImages/f04ded52-0b1e-49d3-8e46-87853985ec44/svn/peppercorn-ply-gem-louvered-shutters-vinlv1559-pe-64_100.jpg', 'detail_url': '/show/10', 'title': '15 in. x 59 in. Open Louvered Polypropylene Shutters Pair in Peppercorn'}\n",
      "{'product_index': '11', 'image_url': 'https://images.thdstatic.com/productImages/326a361b-a13a-4128-94fc-3bc69c249071/svn/wild-mushroom-behr-premium-plus-paint-colors-330004-64_100.jpg', 'detail_url': '/show/11', 'title': '1 qt. #350F-7 Wild Mushroom Semi-Gloss Enamel Low Odor Interior Paint & Primer'}\n",
      "{'product_index': '12', 'image_url': 'https://images.thdstatic.com/productImages/2cad1ff8-da27-44bc-9367-83309faf394a/svn/anthracite-cellular-shades-1g030-7246b-64_100.jpg', 'detail_url': '/show/12', 'title': 'Anthracite Cordless Light Filtering Fabric Cellular Shade 9/16 in. Single Cell 46.5 in. W x 72 in. L'}\n",
      "{'product_index': '13', 'image_url': 'https://images.thdstatic.com/productImages/31532abd-dd4b-4a3b-8390-4f0f2a01fc63/svn/luverne-other-auto-parts-416078-4055117-64_100.jpg', 'detail_url': '/show/13', 'title': 'SlimGrip 78-Inch Black Aluminum Truck Running Boards, Select Ram 1500 Quad Cab'}\n",
      "{'product_index': '14', 'image_url': 'https://images.thdstatic.com/productImages/a87a1ecc-a538-4dc2-a65f-d6dedb6a3ea4/svn/douglas-fir-ekena-millwork-outlookers-out06x28x28boa03rdf-64_100.jpg', 'detail_url': '/show/14', 'title': '6 in. x 28 in. x 28 in. Douglas Fir Balboa Arts and Crafts Rough Sawn Outlooker'}\n",
      "{'product_index': '15', 'image_url': 'https://images.thdstatic.com/productImages/e02def93-b42e-4fe7-9737-549b2db2837e/svn/espresso-home-decorators-collection-faux-wood-blinds-10793478400409-64_100.jpg', 'detail_url': '/show/15', 'title': 'Espresso Cordless Room Darkening 2.5 in. Premium Faux Wood Blind for Window - 35.5 in. W x 48 in. L'}\n",
      "{'product_index': '16', 'image_url': 'https://images.thdstatic.com/productImages/812699f4-3d38-4bc0-81d9-b6fa8670e7c1/svn/maui-mist-behr-premium-plus-paint-colors-305005-64_100.jpg', 'detail_url': '/show/16', 'title': '5 gal. #BL-W10 Maui Mist Semi-Gloss Enamel Low Odor Interior Paint & Primer'}\n",
      "{'product_index': '17', 'image_url': 'https://images.thdstatic.com/productImages/56ad16af-7665-4267-8a9b-28ed7027c11a/svn/chrome-warehouse-of-tiffany-chandeliers-cfl-8436ch-64_100.jpg', 'detail_url': '/show/17', 'title': 'Eleyn 26 in. Indoor Chrome Remote Controlled Fandelier with Light Kit'}\n",
      "{'product_index': '18', 'image_url': 'https://images.thdstatic.com/productImages/85d9db33-aa07-4e9e-98ad-e11159eea9ce/svn/baby-spinach-behr-premium-plus-paint-colors-940004-64_100.jpg', 'detail_url': '/show/18', 'title': '1 qt. #M400-5 Baby Spinach Satin Enamel Exterior Paint & Primer'}\n",
      "{'product_index': '19', 'image_url': 'https://images.thdstatic.com/productImages/a2cd3e42-98b1-4716-8518-a25529c71018/svn/burnished-honey-dew-ekena-millwork-faux-wood-beams-mouldings-bmpc3c0040x100x192bd-64_100.jpg', 'detail_url': '/show/19', 'title': '10 in. x 4 in. x 16 ft. 3-Sided (U-Beam) Pecky Cypress Burnished Honey Dew Faux Wood Ceiling Beam'}\n",
      "{'product_index': '20', 'image_url': 'https://images.thdstatic.com/productImages/4d59c4c4-78cf-4352-ad74-3fa07d96b4e1/svn/white-linon-office-storage-cabinets-thd02709-64_100.jpg', 'detail_url': '/show/20', 'title': '5-Drawer Sandra Cream Storage Chest'}\n",
      "{'product_index': '21', 'image_url': 'https://images.thdstatic.com/productImages/d3ee563e-7e2d-5cee-a01a-94446b1b5e09/svn/blue-multicolor-nourison-area-rugs-833891-64_100.jpg', 'detail_url': '/show/21', 'title': 'Whimsicle Blue Multicolor 2 ft. x 8 ft. Geometric Contemporary Runner Rug'}\n",
      "{'product_index': '22', 'image_url': 'https://images.thdstatic.com/productImages/6efe1e04-06f3-46ae-9d6b-e488f5f5431f/svn/nicor-doorbell-kits-prcp2sbwh-64_100.jpg', 'detail_url': '/show/22', 'title': 'PrimeChime Plus 2 Video Compatible Wired Door Bell Chime Kit with White Stucco Button'}\n",
      "{'product_index': '23', 'image_url': 'https://images.thdstatic.com/productImages/8a3e3301-11fa-4cf1-b9e2-7da1a00fcf28/svn/car-cooling-systems-221-3110-64_100.jpg', 'detail_url': '/show/23', 'title': 'Radiator'}\n",
      "{'product_index': '24', 'image_url': 'https://images.thdstatic.com/productImages/915ab374-fe45-4675-b7e7-be3e2c9d6de4/svn/classic-ivory-glidden-premium-paint-colors-hdgo64upx-05s-64_100.jpg', 'detail_url': '/show/24', 'title': '5-gal. #HDGO64U Classic Ivory Semi-Gloss Latex Exterior Paint'}\n",
      "{'product_index': '25', 'image_url': 'https://images.thdstatic.com/productImages/d64808a6-afd9-5821-99ea-38d775881100/svn/glass-warehouse-alcove-shower-doors-b-wh-67-sb-64_100.jpg', 'detail_url': '/show/25', 'title': '58.25 in. x 67 in. Frameless Pivot Wall Hinged Shower Bath Door'}\n",
      "{'product_index': '26', 'image_url': 'https://images.thdstatic.com/productImages/1638dd31-0191-4a5a-8767-8a449b6ea0df/svn/white-corn-behr-ultra-paint-colors-775005-64_100.jpg', 'detail_url': '/show/26', 'title': '5 gal. #W-B-320 White Corn Extra Durable Satin Enamel Interior Paint & Primer'}\n",
      "{'product_index': '27', 'image_url': 'https://images.thdstatic.com/productImages/8e991406-d83b-467b-b493-f123f4adbebe/svn/drinking-glasses-sets-crl1234-64_100.jpg', 'detail_url': '/show/27', 'title': '18 oz. Clear Hand Blown Recycled Glass Water Goblet (Set of 6)'}\n",
      "{'product_index': '28', 'image_url': 'https://images.thdstatic.com/productImages/907db5b5-07c8-4378-b1f3-0cde4b61d747/svn/greens-ryobi-wet-dry-vacuums-p770-64_100.jpg', 'detail_url': '/show/28', 'title': 'ONE+ 18V 6 Gal. Cordless Wet/Dry Vacuum (Tool Only) with Hose, Crevice Tool, Floor Nozzle and Extension Wand'}\n",
      "{'product_index': '29', 'image_url': 'https://images.thdstatic.com/productImages/b7fa5eac-0895-4d18-b6e2-5b90b22a7b17/svn/multi-clicart-posters-art-prints-icp1179a2-64_100.jpg', 'detail_url': '/show/29', 'title': 'Ascension by Cap Pannell Country Poster and Print 54 in. x 54 in.'}\n",
      "{'product_index': '30', 'image_url': 'https://images.thdstatic.com/productImages/a5fee317-d633-48b0-b6d6-d66317e7bd06/svn/bermuda-sand-glidden-premium-paint-colors-ppg1074-3p-04f-64_100.jpg', 'detail_url': '/show/30', 'title': '1 qt. Bermuda Sand PPG1074-3 Flat Interior Latex Paint'}\n",
      "{'product_index': '31', 'image_url': 'https://images.thdstatic.com/productImages/662353b7-2dcc-4055-b54b-adde88626f46/svn/white-ekena-millwork-appliques-pbp050x100x075fos00-64_100.jpg', 'detail_url': '/show/31', 'title': '3/4 in. x 5 in. x 10 in. PVC Standard Foster Plinth Block Moulding with Square Edge'}\n",
      "{'product_index': '32', 'image_url': 'https://images.thdstatic.com/productImages/9e3d274d-f9cf-4b9d-9fe3-2b0f2dbd0157/svn/worcester-wreath-christmas-plants-ball-3-64_100.jpg', 'detail_url': '/show/32', 'title': '12 in. Balsam Fir Classic Christmas Fresh Kissing Ball Arrangement : Multiple Ship Weeks Available'}\n",
      "{'product_index': '33', 'image_url': 'https://images.thdstatic.com/productImages/c32ead0b-5362-4c8d-8f00-16934593252c/svn/swiss-brown-behr-marquee-paint-colors-245301-64_100.jpg', 'detail_url': '/show/33', 'title': '1 gal. #N210-6 Swiss Brown Eggshell Enamel Interior Paint & Primer'}\n",
      "{'product_index': '34', 'image_url': 'https://images.thdstatic.com/productImages/16fe40cd-589c-4172-9db9-c8e4abecf610/svn/pink-wynwood-studio-posters-art-prints-16334-13x19-superb-psw-nlc-64_100.jpg', 'detail_url': '/show/34', 'title': \"Double Strawberry' Framed Food Art Print 19 in. x 13 in.\"}\n",
      "{'product_index': '35', 'image_url': 'https://images.thdstatic.com/productImages/3b637f97-acd4-495e-8dee-06f011b4bc50/svn/white-flash-furniture-accent-chairs-zbles8090chwh-64_100.jpg', 'detail_url': '/show/35', 'title': 'Hercules Lesley Series Contemporary White Leather Chair with Encasing Frame'}\n",
      "{'product_index': '36', 'image_url': 'https://images.thdstatic.com/productImages/78df8740-0792-48f6-bd45-dff0643fccaf/svn/alder-ekena-millwork-corbels-cor06x04x09aral-64_100.jpg', 'detail_url': '/show/36', 'title': '6 in. x 4 in. x 9 in. Alder Arts and Crafts Corbel'}\n",
      "{'product_index': '37', 'image_url': 'https://images.thdstatic.com/productImages/cf4a0ddf-c382-4230-816c-043fda7153ea/svn/gv-vacuum-accessories-central-head-white-64_100.jpg', 'detail_url': '/show/37', 'title': 'New White Power Nozzle Designed to Fit All Brands of Vacuums'}\n",
      "{'product_index': '38', 'image_url': 'https://images.thdstatic.com/productImages/dc9b8512-620d-46fa-a003-5a1cd2b561e4/svn/storm-gray-hampton-bay-kitchen-cabinet-end-panels-d1230-mst-64_100.jpg', 'detail_url': '/show/38', 'title': 'Designer Series Melvern Storm Gray 0.75 in. x 30 in. x 12 in. Melvern Decorative End Panel'}\n",
      "{'product_index': '39', 'image_url': 'https://images.thdstatic.com/productImages/7cae5db2-df4c-46fc-a5e8-d8454097028e/svn/arthouse-wallpaper-rolls-640703-64_100.jpg', 'detail_url': '/show/39', 'title': 'Quartz Yellow Paper Strippable Roll (Covers 57 sq. ft.)'}\n",
      "{'product_index': '40', 'image_url': 'https://images.thdstatic.com/productImages/5a4ac185-4422-4f17-8286-e3667f4ed265/svn/cran-brook-behr-premium-plus-paint-colors-330001-64_100.jpg', 'detail_url': '/show/40', 'title': '1 gal. #110B-6 Cran Brook Semi-Gloss Enamel Low Odor Interior Paint & Primer'}\n"
     ]
    }
   ],
   "source": [
    "page = requests.get('https://home-depo.demo.pacmann.ai/').text # URL adalah lokasi dari website yang akan di scraping\n",
    "soup = bs(page)\n",
    "rows = soup.find_all('div', class_=\"card\")\n",
    "for row in rows:\n",
    "    url_img = row.find(\"img\", class_=\"card-img-top\")[\"src\"]\n",
    "    detail_url = row.find(\"div\", class_=\"card-body\").find(\"a\", class_=\"btn\")['href']\n",
    "    title = row.find(\"div\", class_=\"card-body\").find(\"a\", class_=\"btn\").getText()\n",
    "    index = row.find(\"div\", class_=\"card-body\").find(\"small\", class_=\"index\").getText()\n",
    "\n",
    "    row_data = {\n",
    "        \"product_index\": index,\n",
    "        'image_url': url_img,\n",
    "        'detail_url': detail_url,\n",
    "        'title': title\n",
    "    }\n",
    "\n",
    "    print(row_data)"
   ]
  },
  {
   "attachments": {},
   "cell_type": "markdown",
   "metadata": {},
   "source": [
    "Setelah berhasil melakukan scraping satu halaman selanjutnya, ubah kode scraping tadi menjadi sebuah fungsi agar dapat digunakan berulang kali"
   ]
  },
  {
   "cell_type": "code",
   "execution_count": null,
   "metadata": {},
   "outputs": [],
   "source": [
    "def overview_data(row):\n",
    "    \"\"\"\n",
    "    Fungsi untuk mengambil data overview dari web page\n",
    "\n",
    "    parameter:\n",
    "        row: beatifulsoup object (array)\n",
    "\n",
    "    result:\n",
    "        row_data: (dict)\n",
    "    \"\"\"\n",
    "    url_img = row.find(\"img\", class_=\"card-img-top\")[\"src\"]\n",
    "    detail_url = row.find(\"div\", class_=\"card-body\").find(\"a\", class_=\"btn\")['href']\n",
    "    title = row.find(\"div\", class_=\"card-body\").find(\"a\", class_=\"btn\").getText()\n",
    "\n",
    "    row_data = {\n",
    "        'image_url': url_img,\n",
    "        'detail_url': detail_url,\n",
    "        'title': title\n",
    "    }\n",
    "    return row_data\n"
   ]
  },
  {
   "attachments": {},
   "cell_type": "markdown",
   "metadata": {},
   "source": [
    "Selanjutnya kita akan membuat sebuah kodingan untuk secara dinamik dapat mengambil data scraping"
   ]
  },
  {
   "cell_type": "code",
   "execution_count": null,
   "metadata": {},
   "outputs": [],
   "source": [
    "page = requests.get('https://home-depo.demo.pacmann.ai/').text\n",
    "soup = bs(page)\n",
    "rows = soup.find_all('div', class_=\"card\")\n",
    "results = []\n",
    "for row in rows:\n",
    "    x = overview_data(row)\n",
    "    results.append(x)\n",
    "\n",
    "print(results)"
   ]
  },
  {
   "attachments": {},
   "cell_type": "markdown",
   "metadata": {},
   "source": [
    "# GET THE DETAIL DATA"
   ]
  },
  {
   "attachments": {},
   "cell_type": "markdown",
   "metadata": {},
   "source": [
    "Disini kita akan mencoba untuk mengambil data detail yang dimiliki oleh data\n",
    "Jika diperhatikan, data title merupakan anchor tag dengan sebuah url menuju detail page\n",
    "akan digunakan detail_url untuk mengambil data detail dari web page"
   ]
  },
  {
   "attachments": {},
   "cell_type": "markdown",
   "metadata": {},
   "source": [
    "Stuktur URL dari detail page adalah base_url/show/<int:id>"
   ]
  },
  {
   "cell_type": "code",
   "execution_count": 10,
   "metadata": {},
   "outputs": [
    {
     "name": "stdout",
     "output_type": "stream",
     "text": [
      "[{'title': '16-Gauge-Sinks Vessel Sink in White with Faucet', 'description': 'It features a rectangle shape. This vessel set is designed to be installed as a undermount vessel set. It is constructed with ceramic. This vessel set comes with an enamel glaze finish in White color. It is designed for a deck mount faucet.', 'price': '507.63', 'currency': 'USD', 'brand': 'Unbranded', 'quantity': 'InStock', 'product_id': '312338711'}]\n"
     ]
    }
   ],
   "source": [
    "url = f'https://home-depo.demo.pacmann.ai/show/3'\n",
    "page = requests.get(url).text\n",
    "soup = bs(page)\n",
    "row = soup.find('div', class_=\"row\")\n",
    "result = []\n",
    "title =row.find('div', class_='card-body').find('h5', class_=\"card-title\").getText()\n",
    "desc =row.find('div', class_='card-body').find('p', class_='description').getText()\n",
    "price =row.find('div', class_='card-body').find('span', class_='price').getText()\n",
    "currency =row.find('div', class_='card-body').find('span', class_='currency').getText()\n",
    "brand =row.find('div', class_='card-body').find('span', class_='brand').getText()\n",
    "availability =row.find('div', class_='card-body').find('span', class_ = 'availability').getText()\n",
    "product_id =row.find('div', class_='card-body').find('span', class_ = 'product_id').getText()\n",
    "data = {\n",
    "    'title':title,\n",
    "    'description':desc,\n",
    "    'price':price,\n",
    "    'currency':currency,\n",
    "    'brand':brand,\n",
    "    'quantity': availability,\n",
    "    'product_id': product_id\n",
    "}\n",
    "result.append(data)\n",
    "\n",
    "print(result)\n",
    "\n"
   ]
  },
  {
   "attachments": {},
   "cell_type": "markdown",
   "metadata": {},
   "source": [
    "Setelah berhasil mendapatkan data detail, selanjutnya tinggal mengubah kode diatas menjadi sebuah fungsi untuk dapat digunakan berulang kali"
   ]
  },
  {
   "cell_type": "code",
   "execution_count": null,
   "metadata": {},
   "outputs": [],
   "source": [
    "def get_detail(url):\n",
    "    \"\"\"\n",
    "    Fungsi untuk mendapatkan detail data\n",
    "\n",
    "    parameter:\n",
    "        Url detail: string\n",
    "\n",
    "    result:\n",
    "        return result: dictionary\n",
    "        \n",
    "    \"\"\"\n",
    "    url = f'https://home-depo.demo.pacmann.ai/{url}'\n",
    "    page = requests.get(url).text\n",
    "    soup = bs(page)\n",
    "    row = soup.find('div', class_=\"row\")\n",
    "    result = []\n",
    "    product_name =row.find('div', class_='card-body').find('h5', class_=\"card-title\").getText()\n",
    "    desc =row.find('div', class_='card-body').find('p', class_='description').getText()\n",
    "    price =row.find('div', class_='card-body').find('span', class_='price').getText()\n",
    "    currency =row.find('div', class_='card-body').find('span', class_='currency').getText()\n",
    "    brand =row.find('div', class_='card-body').find('span', class_='brand').getText()\n",
    "    availability =row.find('div', class_='card-body').find('span', class_ = 'availability').getText()\n",
    "    product_id =row.find('div', class_='card-body').find('span', class_ = 'product_id').getText()\n",
    "    index = row.find('div', class_='card-body').find('span', class_ = 'index').getText()\n",
    "    data = {\n",
    "        \"product_index\": index,\n",
    "        'product_name':product_name,\n",
    "        'description':desc,\n",
    "        'price':price,\n",
    "        'currency':currency,\n",
    "        'brand':brand,\n",
    "        'availability': availability,\n",
    "        'product_id': product_id\n",
    "    }\n",
    "    result.append(data)\n",
    "\n",
    "    return result\n",
    "\n"
   ]
  },
  {
   "attachments": {},
   "cell_type": "markdown",
   "metadata": {},
   "source": [
    "Selanjutnya tinggal mengubah fungsi overview_data, dengan memanggil fungsi get_detail dengan mengirimkan detail_url"
   ]
  },
  {
   "cell_type": "code",
   "execution_count": 11,
   "metadata": {},
   "outputs": [],
   "source": [
    "def overview_data(row):\n",
    "    \"\"\"\n",
    "    Fungsi untuk mengambil data overview dari web page\n",
    "\n",
    "    parameter:\n",
    "        row: beatifulsoup object (array)\n",
    "\n",
    "    result:\n",
    "        row_data: (dict)\n",
    "    \"\"\"\n",
    "\n",
    "    url_img = row.find(\"img\", class_=\"card-img-top\")[\"src\"]\n",
    "    detail_url = row.find(\"div\", class_=\"card-body\").find(\"a\", class_=\"btn\")['href']\n",
    "    title = row.find(\"div\", class_=\"card-body\").find(\"a\", class_=\"btn\").getText()\n",
    "    index = row.find(\"div\", class_=\"card-body\").find(\"small\", class_=\"index\").getText()\n",
    "    data_detail = get_detail(detail_url)\n",
    "    \n",
    "    row_data = {\n",
    "        \"product_index\": index,\n",
    "        'image_url': url_img,\n",
    "        'detail_url': detail_url,\n",
    "        'title': title,\n",
    "        'data_detail': data_detail\n",
    "    }\n",
    "    return row_data\n"
   ]
  },
  {
   "attachments": {},
   "cell_type": "markdown",
   "metadata": {},
   "source": [
    "Selanjutnya tinggal panggil kode berikut untuk mencoba melakukan scraping"
   ]
  },
  {
   "cell_type": "code",
   "execution_count": null,
   "metadata": {},
   "outputs": [],
   "source": [
    "page = requests.get('https://home-depo.demo.pacmann.ai/').text\n",
    "soup = bs(page)\n",
    "rows = soup.find_all('div', class_=\"card\")\n",
    "results = []\n",
    "for row in rows:\n",
    "    x = overview_data(row)\n",
    "    results.append(x)\n",
    "\n",
    "print(results)"
   ]
  },
  {
   "attachments": {},
   "cell_type": "markdown",
   "metadata": {},
   "source": [
    "# GET NEXT PAGE DATA"
   ]
  },
  {
   "attachments": {},
   "cell_type": "markdown",
   "metadata": {},
   "source": [
    "Setelah berhasil mendapatkan data overview dan data detail, selanjutnya mengambil data dari page selanjutnya, untuk mendapatkan data dari page selanjutnya kita akan mencoba melihat url pada next page merka"
   ]
  },
  {
   "attachments": {},
   "cell_type": "markdown",
   "metadata": {},
   "source": [
    "Detail nextpage berbentuk seperti berikut base_url/next_page/<int:no_index>\n",
    "no_index sepertinya berasal dari nomor index dari item, next_page mengambil no index terakhir dari data yang tampil pada page tersebut, untuk mengambil data selanjutnya"
   ]
  },
  {
   "attachments": {},
   "cell_type": "markdown",
   "metadata": {},
   "source": [
    "Karena sudah mengetahui cara website mengambil data dari page selanjutnya saatnya memanfaatkannya untuk melakukan scraping"
   ]
  },
  {
   "cell_type": "code",
   "execution_count": 12,
   "metadata": {},
   "outputs": [
    {
     "data": {
      "text/plain": [
       "[40, 80, 120, 160, 200, 240, 280, 320, 360]"
      ]
     },
     "execution_count": 12,
     "metadata": {},
     "output_type": "execute_result"
    }
   ],
   "source": [
    "# kita akan mengambil 10 halaman saja\n",
    "\n",
    "start = 0\n",
    "last_ids = []\n",
    "for i in range(10):\n",
    "    if start > 0:\n",
    "        last_ids.append(start)\n",
    "    start += 40\n",
    "last_ids"
   ]
  },
  {
   "attachments": {},
   "cell_type": "markdown",
   "metadata": {},
   "source": [
    "Selanjutnya kita akan menggunakan array last_ids untuk mengambil data dari next_page, dengan membuat sebuah fungsi berikut"
   ]
  },
  {
   "cell_type": "code",
   "execution_count": null,
   "metadata": {},
   "outputs": [],
   "source": [
    "def get_all_data(url):\n",
    "    page = requests.get(url).text\n",
    "    soup = bs(page)\n",
    "    rows = soup.find_all('div', class_=\"card\")\n",
    "    results = []\n",
    "    for row in rows:\n",
    "        x = overview_data(row)\n",
    "        results.append(x)\n",
    "\n",
    "    return results\n",
    "\n"
   ]
  },
  {
   "cell_type": "code",
   "execution_count": null,
   "metadata": {},
   "outputs": [],
   "source": [
    "depo_data = []\n",
    "url = 'https://home-depo.demo.pacmann.ai/'\n",
    "# print(url)\n",
    "depo_data += get_all_data(url)\n",
    "for last_id in last_ids:\n",
    "    url_next_page = f'https://home-depo.demo.pacmann.ai/nextpage/{last_id}'\n",
    "    print(url_next_page)\n",
    "    depo_data += get_all_data(url_next_page)\n"
   ]
  },
  {
   "attachments": {},
   "cell_type": "markdown",
   "metadata": {},
   "source": [
    "Jika fungsi sudah berhasil menampilkan URL yang benar, proses scraping sudah selesai\n",
    "selanjutnya tinggal mencoba untuk melakukan print"
   ]
  },
  {
   "cell_type": "code",
   "execution_count": null,
   "metadata": {},
   "outputs": [],
   "source": [
    "print(depo_data)"
   ]
  },
  {
   "attachments": {},
   "cell_type": "markdown",
   "metadata": {},
   "source": [
    "# Writing Data to JSON"
   ]
  },
  {
   "cell_type": "code",
   "execution_count": null,
   "metadata": {},
   "outputs": [],
   "source": [
    "import json\n",
    "y = json.dumps(depo_data)\n",
    "print(y)\n",
    "# Writing to sample.json\n",
    "with open(\"homedepo.json\", \"w\") as outfile:\n",
    "    outfile.write(y)"
   ]
  },
  {
   "attachments": {},
   "cell_type": "markdown",
   "metadata": {},
   "source": [
    "# STROING DATA TO SQL"
   ]
  },
  {
   "attachments": {},
   "cell_type": "markdown",
   "metadata": {},
   "source": [
    "Langkah selanjutnya adalah menyimpan depo data hasil scraping ke dalam sebuah database"
   ]
  },
  {
   "cell_type": "code",
   "execution_count": null,
   "metadata": {},
   "outputs": [],
   "source": [
    "import sqlite3\n",
    "con = sqlite3.connect(\"home_depo.db\")\n",
    "cur = con.cursor()"
   ]
  },
  {
   "cell_type": "code",
   "execution_count": null,
   "metadata": {},
   "outputs": [],
   "source": [
    "# create table\n",
    "url = \"\"\"\n",
    "CREATE TABLE IF NOT EXISTS homedepo(\n",
    "    product_index text,\n",
    "    image_url  text,\n",
    "    detail_url text,\n",
    "    title text\n",
    ");\n",
    "\"\"\"\n",
    "cur.execute(url)"
   ]
  },
  {
   "attachments": {},
   "cell_type": "markdown",
   "metadata": {},
   "source": [
    "Selanjutnya tinggal melakukan transformasi pada data"
   ]
  },
  {
   "cell_type": "code",
   "execution_count": null,
   "metadata": {},
   "outputs": [],
   "source": [
    "depo_master_data = []\n",
    "for row in depo_data:\n",
    "    print(row)\n",
    "    product_index =row['product_index']\n",
    "    image_url = row['image_url']\n",
    "    detail_url = row['detail_url']\n",
    "    title = row['title']\n",
    "    tmp = (product_index, image_url, detail_url, title)\n",
    "    depo_master_data.append(tmp)"
   ]
  },
  {
   "attachments": {},
   "cell_type": "markdown",
   "metadata": {},
   "source": [
    "Selanjutnya masukan data hasil transformasi tersebut dalam database"
   ]
  },
  {
   "cell_type": "code",
   "execution_count": null,
   "metadata": {},
   "outputs": [],
   "source": [
    "# insert data\n",
    "cur.executemany(\n",
    "    \"INSERT INTO homedepo values(?,?,?,?)\",\n",
    "   depo_master_data\n",
    ")\n",
    "con.commit()"
   ]
  },
  {
   "attachments": {},
   "cell_type": "markdown",
   "metadata": {},
   "source": [
    "Selanjutnya masukan data detail product ke database"
   ]
  },
  {
   "cell_type": "code",
   "execution_count": null,
   "metadata": {},
   "outputs": [],
   "source": [
    "cur.execute(\"\"\"\n",
    "    CREATE TABLE IF NOT EXISTS detail_product (\n",
    "    product_index text,\n",
    "    product_name text,\n",
    "    description text,\n",
    "    price text,\n",
    "    currency text,\n",
    "    brand text,\n",
    "    availability text,\n",
    "    product_ud int\n",
    "    );\n",
    "\"\"\")"
   ]
  },
  {
   "cell_type": "code",
   "execution_count": 13,
   "metadata": {},
   "outputs": [
    {
     "ename": "NameError",
     "evalue": "name 'depo_data' is not defined",
     "output_type": "error",
     "traceback": [
      "\u001b[1;31m---------------------------------------------------------------------------\u001b[0m",
      "\u001b[1;31mNameError\u001b[0m                                 Traceback (most recent call last)",
      "Cell \u001b[1;32mIn[13], line 3\u001b[0m\n\u001b[0;32m      1\u001b[0m depo_detail_data \u001b[39m=\u001b[39m []\n\u001b[0;32m      2\u001b[0m depo_product \u001b[39m=\u001b[39m []\n\u001b[1;32m----> 3\u001b[0m \u001b[39mfor\u001b[39;00m row \u001b[39min\u001b[39;00m depo_data:\n\u001b[0;32m      4\u001b[0m     detail \u001b[39m=\u001b[39m row[\u001b[39m'\u001b[39m\u001b[39mdata_detail\u001b[39m\u001b[39m'\u001b[39m]\n\u001b[0;32m      5\u001b[0m     \u001b[39mfor\u001b[39;00m d \u001b[39min\u001b[39;00m detail:\n",
      "\u001b[1;31mNameError\u001b[0m: name 'depo_data' is not defined"
     ]
    }
   ],
   "source": [
    "depo_detail_data = []\n",
    "depo_product = []\n",
    "for row in depo_data:\n",
    "    detail = row['data_detail']\n",
    "    for d in detail:\n",
    "        product_index = d['product_index']\n",
    "        product_name = d['product_name']\n",
    "        description = d['description']\n",
    "        price = d['price']\n",
    "        currency = d['currency']\n",
    "        brand = d['brand']\n",
    "        availability = d['availability']\n",
    "        product_id = d['product_id']\n",
    "        tmp = (product_index, product_name, description, price, currency, brand, availability, product_id)\n",
    "        depo_detail_data.append(tmp)\n",
    "depo_detail_data[0]"
   ]
  },
  {
   "cell_type": "code",
   "execution_count": null,
   "metadata": {},
   "outputs": [],
   "source": [
    "# insert data\n",
    "cur.executemany(\n",
    "    \"INSERT INTO detail_product VALUES(?,?,?,?,?,?,?,?)\",\n",
    "    depo_detail_data\n",
    ")\n",
    "con.commit()"
   ]
  }
 ],
 "metadata": {
  "kernelspec": {
   "display_name": "Python 3",
   "language": "python",
   "name": "python3"
  },
  "language_info": {
   "codemirror_mode": {
    "name": "ipython",
    "version": 3
   },
   "file_extension": ".py",
   "mimetype": "text/x-python",
   "name": "python",
   "nbconvert_exporter": "python",
   "pygments_lexer": "ipython3",
   "version": "3.11.3"
  },
  "orig_nbformat": 4
 },
 "nbformat": 4,
 "nbformat_minor": 2
}
